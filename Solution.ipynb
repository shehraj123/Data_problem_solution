{
 "cells": [
  {
   "cell_type": "code",
   "execution_count": 206,
   "id": "a9a6366b",
   "metadata": {},
   "outputs": [],
   "source": [
    "import os\n",
    "import math\n",
    "import csv\n",
    "import matplotlib.pyplot as plt\n",
    "plt.rcParams['figure.figsize'] = [12, 6]"
   ]
  },
  {
   "cell_type": "code",
   "execution_count": 104,
   "id": "19986034",
   "metadata": {},
   "outputs": [],
   "source": [
    "from pyspark.sql import SparkSession\n",
    "from pyspark.sql.functions import col\n",
    "from pyspark.sql.types import FloatType\n",
    "\n",
    "spark = SparkSession.builder.master('local').getOrCreate()"
   ]
  },
  {
   "cell_type": "code",
   "execution_count": 4,
   "id": "f3e90b70",
   "metadata": {},
   "outputs": [
    {
     "name": "stdout",
     "output_type": "stream",
     "text": [
      "root\n",
      " |-- _ID: integer (nullable = true)\n",
      " |-- TimeSt: string (nullable = true)\n",
      " |-- Country: string (nullable = true)\n",
      " |-- Province: string (nullable = true)\n",
      " |-- City: string (nullable = true)\n",
      " |-- Latitude: double (nullable = true)\n",
      " |-- Longitude: double (nullable = true)\n",
      "\n"
     ]
    }
   ],
   "source": [
    "df = spark.read.options(\n",
    "    header='True',\n",
    "    inferSchema='True',\n",
    "    delimiter=',',\n",
    ").csv(os.path.expanduser('~/sample-data/DataSample.csv'))\n",
    "df.printSchema()"
   ]
  },
  {
   "cell_type": "code",
   "execution_count": 5,
   "id": "2f386bb4",
   "metadata": {},
   "outputs": [],
   "source": [
    "df.createOrReplaceTempView('filter_frame')"
   ]
  },
  {
   "cell_type": "code",
   "execution_count": 6,
   "id": "6067eb16",
   "metadata": {},
   "outputs": [],
   "source": [
    "df_filtered = spark.sql(\"\"\"select distinct TimeSt, Country, Province, City, Latitude, Longitude from filter_frame\"\"\")"
   ]
  },
  {
   "cell_type": "code",
   "execution_count": 7,
   "id": "e0ef6c1c",
   "metadata": {
    "scrolled": false
   },
   "outputs": [
    {
     "name": "stdout",
     "output_type": "stream",
     "text": [
      "+--------------------+-------+--------+----------------+--------+----------+\n",
      "|              TimeSt|Country|Province|            City|Latitude| Longitude|\n",
      "+--------------------+-------+--------+----------------+--------+----------+\n",
      "|2017-06-21 02:00:...|     CA|      AB|         Calgary| 51.0823| -113.9578|\n",
      "|2017-06-21 01:00:...|     CA|      ON|         Toronto| 43.6466|  -79.4493|\n",
      "|2017-06-21 12:01:...|     CA|      ON|          Guelph| 43.5412|  -80.2469|\n",
      "|2017-06-21 04:01:...|     CA|      ON|         Lindsay|  44.357|  -78.7405|\n",
      "|2017-06-21 18:01:...|     CA|      ON|       North Bay| 46.3377|  -79.3717|\n",
      "|2017-06-21 18:04:...|     CA|      QC|           Laval| 45.6236|  -73.6861|\n",
      "|2017-06-21 06:04:...|     CA|      AB|   Sherwood Park|53.52284|-113.33213|\n",
      "|2017-06-21 14:05:...|     CA|      QC|Vaudreuil-Dorion| 45.3838|   -74.041|\n",
      "|2017-06-21 01:06:...|     CA|      NS|          Sydney| 46.1612|  -60.1823|\n",
      "|2017-06-21 20:07:...|     CA|      NB|         Moncton| 46.1033|   -64.815|\n",
      "|2017-06-21 19:08:...|     CA|      AB|        Beaumont| 53.3501| -113.4187|\n",
      "|2017-06-21 09:09:...|     CA|      AB|         Calgary|50.87401|-113.98432|\n",
      "|2017-06-21 10:10:...|     CA|      ON|     Mississauga| 43.5869|  -79.7559|\n",
      "|2017-06-21 18:10:...|     CA|      AB|         Calgary|51.03297|-113.98352|\n",
      "|2017-06-21 18:10:...|     CA|      AB|         Calgary| 51.1563| -114.0572|\n",
      "|2017-06-21 18:11:...|     CA|      NB|         Moncton| 46.1183|  -64.7338|\n",
      "|2017-06-21 08:12:...|     CA|      ON|       Kitchener| 43.4381|  -80.5099|\n",
      "|2017-06-21 21:12:...|     CA|      BC|        Richmond|49.16542|-123.12659|\n",
      "|2017-06-21 16:13:...|     CA|      AB|         Calgary| 51.1387| -114.2015|\n",
      "|2017-06-21 01:15:...|     CA|      BC|        Winfield|50.00783|-119.41946|\n",
      "+--------------------+-------+--------+----------------+--------+----------+\n",
      "only showing top 20 rows\n",
      "\n"
     ]
    }
   ],
   "source": [
    "df_filtered.createOrReplaceTempView('filtered_frame')\n",
    "df_filtered.show()"
   ]
  },
  {
   "cell_type": "code",
   "execution_count": 8,
   "id": "3aa9e3c8",
   "metadata": {
    "scrolled": false
   },
   "outputs": [
    {
     "name": "stdout",
     "output_type": "stream",
     "text": [
      "root\n",
      " |-- POIID: string (nullable = true)\n",
      " |--  Latitude: double (nullable = true)\n",
      " |-- Longitude: double (nullable = true)\n",
      "\n"
     ]
    }
   ],
   "source": [
    "poiDf = spark.read.options(\n",
    "    header=\"True\", \n",
    "    inferSchema=\"True\",\n",
    "    delimiter=\",\",\n",
    ").csv(os.path.expanduser('~/sample-data/POIList.csv'))\n",
    "poiDf.printSchema()"
   ]
  },
  {
   "cell_type": "code",
   "execution_count": 9,
   "id": "5a5c4791",
   "metadata": {},
   "outputs": [
    {
     "name": "stdout",
     "output_type": "stream",
     "text": [
      "+-----+---------+-----------+\n",
      "|POIID| Latitude|  Longitude|\n",
      "+-----+---------+-----------+\n",
      "| POI1|53.546167|-113.485734|\n",
      "| POI2|53.546167|-113.485734|\n",
      "| POI3|45.521629| -73.566024|\n",
      "| POI4| 45.22483| -63.232729|\n",
      "+-----+---------+-----------+\n",
      "\n"
     ]
    }
   ],
   "source": [
    "poiDf.createOrReplaceTempView('poi')\n",
    "poiDf.show()"
   ]
  },
  {
   "cell_type": "code",
   "execution_count": 10,
   "id": "04ac207b",
   "metadata": {},
   "outputs": [
    {
     "data": {
      "text/plain": [
       "<function __main__.distance(P_Latitude, P_Longitude, Latitude, Longitude)>"
      ]
     },
     "execution_count": 10,
     "metadata": {},
     "output_type": "execute_result"
    }
   ],
   "source": [
    "def distance(P_Latitude, P_Longitude, Latitude, Longitude):\n",
    "    '''To find the minimum distance of each request longitude\n",
    "        and latitude from a POI and assign a POI to a request.\n",
    "        \n",
    "        P_Latitude: Latitude column of the POI\n",
    "        P_Longitude: Longitude column of the POI\n",
    "        Latitude: Latitude column of the request\n",
    "        Longitude: Longitude column of the request'''\n",
    "\n",
    "    return ((P_Latitude-Latitude)**2 + (P_Longitude-Longitude)**2)**(1/2)\n",
    "\n",
    "# Registering user defined function into spark\n",
    "spark.udf.register(name=\"distance\", f=distance)"
   ]
  },
  {
   "cell_type": "code",
   "execution_count": 91,
   "id": "ebd5b5e4",
   "metadata": {},
   "outputs": [
    {
     "name": "stdout",
     "output_type": "stream",
     "text": [
      "{'POI1': (53.546167, -113.485734), 'POI2': (53.546167, -113.485734), 'POI3': (45.521629, -73.566024), 'POI4': (45.22483, -63.232729)}\n"
     ]
    }
   ],
   "source": [
    "# Extracting data from POI for POI assignment\n",
    "POIs = dict()\n",
    "with open('../sample-data/POIList.csv') as csv_file:\n",
    "    reader = csv.reader(csv_file, delimiter=',')\n",
    "    i = 0\n",
    "    for line in reader:\n",
    "        if i>0:\n",
    "            POI_ID = line[0]\n",
    "            latitude = float(line[1])\n",
    "            longitude = float(line[2])\n",
    "            POIs[POI_ID] = (latitude, longitude)\n",
    "        i += 1    \n",
    "print(POIs)"
   ]
  },
  {
   "cell_type": "code",
   "execution_count": 109,
   "id": "2b54eadc",
   "metadata": {},
   "outputs": [
    {
     "name": "stdout",
     "output_type": "stream",
     "text": [
      "19.905\n"
     ]
    },
    {
     "data": {
      "text/plain": [
       "<function __main__.distancePOI(latitude, longitude)>"
      ]
     },
     "execution_count": 109,
     "metadata": {},
     "output_type": "execute_result"
    }
   ],
   "source": [
    "# Defining a function for finding nearest POI\n",
    "def calcNearestPOI(latitude, longitude):\n",
    "    '''For finding the nearest POI from the given data.\n",
    "        latitude: Latitude of the request\n",
    "        longitude: Longitude of the request\n",
    "        POIDict: dictionary containing POI data\n",
    "        \n",
    "        Returns: nearest POI string and distance from POI.\n",
    "                 If two POI are equally situated, first one is returned.'''\n",
    "    l = dict()\n",
    "    for k, v in POIs.items():\n",
    "        P_lat = v[0]\n",
    "        P_long = v[1]\n",
    "        lat_diff = latitude-P_lat\n",
    "        long_diff = longitude-P_long\n",
    "        distance = round(math.sqrt((lat_diff)**2 + (long_diff)**2), 4)\n",
    "        l[k] = distance\n",
    "    \n",
    "    mini = min(l, key=l.get)\n",
    "    return (mini, l[mini])\n",
    "\n",
    "def nearestPOI(latitude, longitude):\n",
    "    poi = calcNearestPOI(latitude, longitude)[0]\n",
    "    return poi\n",
    "\n",
    "def distancePOI(latitude, longitude):\n",
    "    dis = calcNearestPOI(latitude, longitude)[1]\n",
    "    return dis\n",
    "# Test\n",
    "print(distancePOI(63.0823, -130.9578))        \n",
    "# Registering the above function in spark sql\n",
    "spark.udf.register(name='nearestPOI', f=nearestPOI)\n",
    "spark.udf.register('distancePOI', distancePOI, FloatType())"
   ]
  },
  {
   "cell_type": "code",
   "execution_count": 110,
   "id": "e6ee9970",
   "metadata": {},
   "outputs": [],
   "source": [
    "newTable = spark.sql('select TimeSt, Country, Province, City, filtered_frame.Latitude, filtered_frame.Longitude, distancePOI(filtered_frame.Latitude, filtered_frame.Longitude) as Distance_from_POI, nearestPOI(filtered_frame.Latitude, filtered_frame.Longitude) as Nearest_POI from filtered_frame')       "
   ]
  },
  {
   "cell_type": "code",
   "execution_count": 114,
   "id": "3a4978db",
   "metadata": {},
   "outputs": [
    {
     "name": "stdout",
     "output_type": "stream",
     "text": [
      "+--------------------+-------+--------+----------------+--------+----------+-----------------+-----------+\n",
      "|              TimeSt|Country|Province|            City|Latitude| Longitude|Distance_from_POI|Nearest_POI|\n",
      "+--------------------+-------+--------+----------------+--------+----------+-----------------+-----------+\n",
      "|2017-06-21 02:00:...|     CA|      AB|         Calgary| 51.0823| -113.9578|           2.5087|       POI1|\n",
      "|2017-06-21 01:00:...|     CA|      ON|         Toronto| 43.6466|  -79.4493|           6.1748|       POI3|\n",
      "|2017-06-21 12:01:...|     CA|      ON|          Guelph| 43.5412|  -80.2469|           6.9682|       POI3|\n",
      "|2017-06-21 04:01:...|     CA|      ON|         Lindsay|  44.357|  -78.7405|           5.3039|       POI3|\n",
      "|2017-06-21 18:01:...|     CA|      ON|       North Bay| 46.3377|  -79.3717|           5.8628|       POI3|\n",
      "|2017-06-21 18:04:...|     CA|      QC|           Laval| 45.6236|  -73.6861|           0.1575|       POI3|\n",
      "|2017-06-21 06:04:...|     CA|      AB|   Sherwood Park|53.52284|-113.33213|           0.1554|       POI1|\n",
      "|2017-06-21 14:05:...|     CA|      QC|Vaudreuil-Dorion| 45.3838|   -74.041|           0.4946|       POI3|\n",
      "|2017-06-21 01:06:...|     CA|      NS|          Sydney| 46.1612|  -60.1823|           3.1909|       POI4|\n",
      "|2017-06-21 20:07:...|     CA|      NB|         Moncton| 46.1033|   -64.815|           1.8098|       POI4|\n",
      "|2017-06-21 19:08:...|     CA|      AB|        Beaumont| 53.3501| -113.4187|           0.2072|       POI1|\n",
      "|2017-06-21 09:09:...|     CA|      AB|         Calgary|50.87401|-113.98432|           2.7183|       POI1|\n",
      "|2017-06-21 10:10:...|     CA|      ON|     Mississauga| 43.5869|  -79.7559|           6.4852|       POI3|\n",
      "|2017-06-21 18:10:...|     CA|      AB|         Calgary|51.03297|-113.98352|            2.562|       POI1|\n",
      "|2017-06-21 18:10:...|     CA|      AB|         Calgary| 51.1563| -114.0572|           2.4572|       POI1|\n",
      "|2017-06-21 18:11:...|     CA|      NB|         Moncton| 46.1183|  -64.7338|           1.7469|       POI4|\n",
      "|2017-06-21 08:12:...|     CA|      ON|       Kitchener| 43.4381|  -80.5099|           7.2497|       POI3|\n",
      "|2017-06-21 21:12:...|     CA|      BC|        Richmond|49.16542|-123.12659|          10.5895|       POI1|\n",
      "|2017-06-21 16:13:...|     CA|      AB|         Calgary| 51.1387| -114.2015|           2.5116|       POI1|\n",
      "|2017-06-21 01:15:...|     CA|      BC|        Winfield|50.00783|-119.41946|           6.9086|       POI1|\n",
      "+--------------------+-------+--------+----------------+--------+----------+-----------------+-----------+\n",
      "only showing top 20 rows\n",
      "\n"
     ]
    }
   ],
   "source": [
    "newTable.createOrReplaceTempView('newTableView')\n",
    "#ww = spark.sql('select * from newTableView')\n",
    "newTable.show()\n",
    "#ww.show()"
   ]
  },
  {
   "cell_type": "code",
   "execution_count": 115,
   "id": "658bc082",
   "metadata": {},
   "outputs": [],
   "source": [
    "POI1 = spark.sql('select * from newTableView where Nearest_POI = \"POI1\"')\n",
    "POI2 = spark.sql('select * from newTableView where Nearest_POI = \"POI2\"')\n",
    "POI3 = spark.sql('select * from newTableView where Nearest_POI = \"POI3\"')\n",
    "POI4 = spark.sql('select * from newTableView where Nearest_POI = \"POI4\"')\n",
    "\n",
    "POI1.createOrReplaceTempView('poi1view')\n",
    "POI2.createOrReplaceTempView('poi2view')\n",
    "POI3.createOrReplaceTempView('poi3view')\n",
    "POI4.createOrReplaceTempView('poi4view')"
   ]
  },
  {
   "cell_type": "code",
   "execution_count": 116,
   "id": "88e105af",
   "metadata": {},
   "outputs": [
    {
     "name": "stdout",
     "output_type": "stream",
     "text": [
      "+--------------------+-------+--------+-------------+--------+----------+-----------------+-----------+\n",
      "|              TimeSt|Country|Province|         City|Latitude| Longitude|Distance_from_POI|Nearest_POI|\n",
      "+--------------------+-------+--------+-------------+--------+----------+-----------------+-----------+\n",
      "|2017-06-21 02:00:...|     CA|      AB|      Calgary| 51.0823| -113.9578|           2.5087|       POI1|\n",
      "|2017-06-21 06:04:...|     CA|      AB|Sherwood Park|53.52284|-113.33213|           0.1554|       POI1|\n",
      "|2017-06-21 19:08:...|     CA|      AB|     Beaumont| 53.3501| -113.4187|           0.2072|       POI1|\n",
      "|2017-06-21 09:09:...|     CA|      AB|      Calgary|50.87401|-113.98432|           2.7183|       POI1|\n",
      "|2017-06-21 18:10:...|     CA|      AB|      Calgary|51.03297|-113.98352|            2.562|       POI1|\n",
      "|2017-06-21 18:10:...|     CA|      AB|      Calgary| 51.1563| -114.0572|           2.4572|       POI1|\n",
      "|2017-06-21 21:12:...|     CA|      BC|     Richmond|49.16542|-123.12659|          10.5895|       POI1|\n",
      "|2017-06-21 16:13:...|     CA|      AB|      Calgary| 51.1387| -114.2015|           2.5116|       POI1|\n",
      "|2017-06-21 01:15:...|     CA|      BC|     Winfield|50.00783|-119.41946|           6.9086|       POI1|\n",
      "|2017-06-21 19:15:...|     CA|      AB|     Edmonton|  53.587|  -113.441|           0.0606|       POI1|\n",
      "|2017-06-21 06:19:...|     CA|      AB|      Calgary| 51.1414|  -114.076|           2.4761|       POI1|\n",
      "|2017-06-21 10:20:...|     CA|      AB|     Edmonton|   53.55|    -113.5|           0.0148|       POI1|\n",
      "|2017-06-21 08:21:...|     CA|      AB|      Calgary| 50.9368|-114.01074|           2.6617|       POI1|\n",
      "|2017-06-21 15:22:...|     CA|      AB|     Edmonton| 53.6313| -113.5245|           0.0935|       POI1|\n",
      "|2017-06-21 00:22:...|     CA|      AB|      Calgary| 50.9665| -114.0826|           2.6478|       POI1|\n",
      "|2017-06-21 14:24:...|     CA|      AB|      Calgary| 51.0381|  -114.118|           2.5865|       POI1|\n",
      "|2017-06-21 08:26:...|     CA|      AB|      Calgary| 51.0876| -114.0214|           2.5162|       POI1|\n",
      "|2017-06-21 09:30:...|     CA|      AB|      Airdrie| 51.3082| -114.0398|           2.3055|       POI1|\n",
      "|2017-06-21 15:31:...|     CA|      AB|      Calgary| 51.0818|  -113.959|           2.5094|       POI1|\n",
      "|2017-06-21 13:35:...|     CA|      BC|      Nanaimo|49.17343|-123.94345|          11.3351|       POI1|\n",
      "+--------------------+-------+--------+-------------+--------+----------+-----------------+-----------+\n",
      "only showing top 20 rows\n",
      "\n"
     ]
    }
   ],
   "source": [
    "# For Example\n",
    "POI1.show()"
   ]
  },
  {
   "cell_type": "code",
   "execution_count": 117,
   "id": "35d41c03",
   "metadata": {},
   "outputs": [],
   "source": [
    "# Calculating the Average distance and standard deviation of the distances from all the 4 POIs\n",
    "stats1 = spark.sql('select round(avg(distance_from_POI), 4) as Mean_distance_from_POI1, round(std(distance_from_POI), 4) as Standard_deviation_distances from poi1view')\n",
    "stats2 = spark.sql('select round(avg(distance_from_POI), 4) as Mean_distance_from_POI2, round(std(distance_from_POI), 4) as Standard_deviation_distances from poi2view')\n",
    "stats3 = spark.sql('select round(avg(distance_from_POI), 4) as Mean_distance_from_POI3, round(std(distance_from_POI), 4) as Standard_deviation_distances from poi3view')\n",
    "stats4 = spark.sql('select round(avg(distance_from_POI), 4) as Mean_distance_from_POI4, round(std(distance_from_POI), 4) as Standard_deviation_distances from poi4view')"
   ]
  },
  {
   "cell_type": "code",
   "execution_count": 118,
   "id": "c3b4e678",
   "metadata": {},
   "outputs": [
    {
     "name": "stdout",
     "output_type": "stream",
     "text": [
      "+-----------------------+----------------------------+\n",
      "|Mean_distance_from_POI1|Standard_deviation_distances|\n",
      "+-----------------------+----------------------------+\n",
      "|                 3.3482|                      3.8585|\n",
      "+-----------------------+----------------------------+\n",
      "\n",
      "+-----------------------+----------------------------+\n",
      "|Mean_distance_from_POI2|Standard_deviation_distances|\n",
      "+-----------------------+----------------------------+\n",
      "|                   null|                        null|\n",
      "+-----------------------+----------------------------+\n",
      "\n",
      "+-----------------------+----------------------------+\n",
      "|Mean_distance_from_POI3|Standard_deviation_distances|\n",
      "+-----------------------+----------------------------+\n",
      "|                 5.5379|                      2.8587|\n",
      "+-----------------------+----------------------------+\n",
      "\n",
      "+-----------------------+----------------------------+\n",
      "|Mean_distance_from_POI4|Standard_deviation_distances|\n",
      "+-----------------------+----------------------------+\n",
      "|                 8.8104|                     28.6751|\n",
      "+-----------------------+----------------------------+\n",
      "\n"
     ]
    }
   ],
   "source": [
    "stats1.show()\n",
    "stats2.show() # This shows null because POI1 and POI2 have same coordinates and none of the requests get assigned POI2\n",
    "stats3.show()\n",
    "stats4.show()"
   ]
  },
  {
   "cell_type": "markdown",
   "id": "3d7bff91",
   "metadata": {},
   "source": [
    "# Plotting Section\n",
    "This code section is used for plotting data for assigned requests and POI. Each POI is plotted in seperate plots."
   ]
  },
  {
   "cell_type": "code",
   "execution_count": 174,
   "id": "579aae4d",
   "metadata": {},
   "outputs": [],
   "source": [
    "x1 = POI1.select(\"Latitude\").rdd.flatMap(lambda x: x).collect()\n",
    "y1 = POI1.select(\"Longitude\").rdd.flatMap(lambda x: x).collect()\n",
    "\n",
    "x3 = POI3.select(\"Latitude\").rdd.flatMap(lambda x: x).collect()\n",
    "y3 = POI3.select(\"Longitude\").rdd.flatMap(lambda x: x).collect()\n",
    "\n",
    "x4 = POI4.select(\"Latitude\").rdd.flatMap(lambda x: x).collect()\n",
    "y4 = POI4.select(\"Longitude\").rdd.flatMap(lambda x: x).collect()"
   ]
  },
  {
   "cell_type": "code",
   "execution_count": 216,
   "id": "d58a875f",
   "metadata": {},
   "outputs": [
    {
     "data": {
      "image/png": "[encoded data removed]",
      "text/plain": [
       "<Figure size 864x432 with 1 Axes>"
      ]
     },
     "metadata": {
      "needs_background": "light"
     },
     "output_type": "display_data"
    },
    {
     "data": {
      "image/png": "[encoded data removed]",
      "text/plain": [
       "<Figure size 864x432 with 1 Axes>"
      ]
     },
     "metadata": {
      "needs_background": "light"
     },
     "output_type": "display_data"
    },
    {
     "data": {
      "image/png": "[encoded data removed]",
      "text/plain": [
       "<Figure size 864x432 with 1 Axes>"
      ]
     },
     "metadata": {
      "needs_background": "light"
     },
     "output_type": "display_data"
    },
    {
     "data": {
      "image/png": "[encoded data removed]",
      "text/plain": [
       "<Figure size 864x432 with 1 Axes>"
      ]
     },
     "metadata": {
      "needs_background": "light"
     },
     "output_type": "display_data"
    }
   ],
   "source": [
    "co_or1 = spark.sql('select round(count(*)/(3.1415*pow(max(distance_from_POI),2)), 4) as Density_POI1, max(distance_from_POI) as Radius_POI1 from poi1view')\n",
    "co_or1.createOrReplaceTempView('coordinates1')\n",
    "\n",
    "co_or2 = spark.sql('select round(count(*)/(3.1415*pow(max(distance_from_POI),2)), 4) as Density_POI2, max(distance_from_POI) as Radius_POI2 from newTableView where Nearest_POI=\"POI2\"')\n",
    "co_or2.createOrReplaceTempView('coordinates2')\n",
    "\n",
    "co_or3 = spark.sql('select round(count(*)/(3.1415*pow(max(distance_from_POI),2)), 4) as Density_POI3, max(distance_from_POI) as Radius_POI3 from newTableView where Nearest_POI=\"POI3\"')\n",
    "co_or3.createOrReplaceTempView('coordinates3')\n",
    "\n",
    "co_or4 = spark.sql('select round(count(*)/(3.1415*pow(max(distance_from_POI),2)), 4) as Density_POI4, max(distance_from_POI) as Radius_POI4 from newTableView where Nearest_POI=\"POI4\"')\n",
    "co_or4.createOrReplaceTempView('coordinates4')\n",
    "try:\n",
    "    # POI 1\n",
    "    density_1 = float(co_or1.select(\"Density_POI1\").rdd.flatMap(lambda x: x).collect()[0])\n",
    "    radius_1 = float(co_or1.select(\"Radius_POI1\").rdd.flatMap(lambda x: x).collect()[0])\n",
    "    figure, axes = plt.subplots()\n",
    "    poi1_x = POIs['POI1'][0]\n",
    "    poi1_y = POIs['POI1'][1]\n",
    "    plt.xlim(20,80)\n",
    "    plt.ylim(-140,-80)\n",
    "    plt.xlabel('Latitudes')\n",
    "    plt.ylabel('Longitudes')\n",
    "    axes.set_aspect(1)\n",
    "    \n",
    "    # Plotting requests\n",
    "    plt.scatter(x1, y1, 5)\n",
    "    \n",
    "    # Plotting POI 1 and circle\n",
    "    poi, = plt.plot(poi1_x, poi1_y, 'r+')\n",
    "    circle = plt.Circle((poi1_x,poi1_y), radius_1, fill=False)\n",
    "    axes.add_artist(circle)\n",
    "    plt.title('POI1')\n",
    "    plt.legend([poi], ['POI1'])\n",
    "    plt.figtext(0.7,1, 'Density: {} (requests/ut.area)'.format(density_1))\n",
    "    plt.figtext(0.7,0.95, 'Radius: {}'.format(round(radius_1, 4)))\n",
    "    plt.show()\n",
    "    \n",
    "    # POI 2\n",
    "    poi2_x = POIs['POI2'][0]\n",
    "    poi2_y = POIs['POI2'][1]\n",
    "    figure, axes = plt.subplots()\n",
    "    axes.set_aspect(1)\n",
    "    plt.plot(poi2_x, poi2_y, 'r+')\n",
    "    plt.title('POI2')\n",
    "    plt.show()\n",
    "    \n",
    "    # POI 3\n",
    "    density_3 = float(co_or3.select(\"Density_POI3\").rdd.flatMap(lambda x: x).collect()[0])\n",
    "    radius_3 = float(co_or3.select(\"Radius_POI3\").rdd.flatMap(lambda x: x).collect()[0])\n",
    "    figure, axes = plt.subplots()\n",
    "    poi3_x = POIs['POI3'][0]\n",
    "    poi3_y = POIs['POI3'][1]\n",
    "    plt.xlim(20,70)\n",
    "    plt.ylim(-100,-50)\n",
    "    plt.xlabel('Latitudes')\n",
    "    plt.ylabel('Longitudes')\n",
    "    axes.set_aspect(1)\n",
    "    \n",
    "    # Plotting requests\n",
    "    plt.scatter(x3, y3, 5)\n",
    "    \n",
    "    # Plotting POI 1 and circle\n",
    "    poi, = plt.plot(poi3_x, poi3_y, 'r+')\n",
    "    circle = plt.Circle((poi3_x,poi3_y), radius_3, fill=False)\n",
    "    axes.add_artist(circle)\n",
    "    plt.title('POI3')\n",
    "    plt.legend([poi], ['POI3'])\n",
    "    plt.figtext(0.7,1, 'Density: {} (requests/ut.area)'.format(density_3))\n",
    "    plt.figtext(0.7,0.95, 'Radius: {}'.format(round(radius_3, 4)))\n",
    "    plt.show()\n",
    "    \n",
    "    # POI 4\n",
    "    density_4 = float(co_or4.select(\"Density_POI4\").rdd.flatMap(lambda x: x).collect()[0])\n",
    "    radius_4 = float(co_or4.select(\"Radius_POI4\").rdd.flatMap(lambda x: x).collect()[0])\n",
    "    figure, axes = plt.subplots()\n",
    "    poi4_x = POIs['POI4'][0]\n",
    "    poi4_y = POIs['POI4'][1]\n",
    "    plt.xlim(-170,270)\n",
    "    plt.ylim(-300,150)\n",
    "    plt.xlabel('Latitudes')\n",
    "    plt.ylabel('Longitudes')\n",
    "    axes.set_aspect(1)\n",
    "    \n",
    "    # Plotting requests\n",
    "    plt.scatter(x4, y4, 5)\n",
    "    \n",
    "    # Plotting POI 1 and circle\n",
    "    poi, = plt.plot(poi4_x, poi4_y, 'r+')\n",
    "    circle = plt.Circle((poi4_x,poi4_y), radius_4, fill=False)\n",
    "    axes.add_artist(circle)\n",
    "    plt.title('POI4')\n",
    "    plt.legend([poi], ['POI4'])\n",
    "    plt.figtext(0.7,1, 'Density: {} (requests/ut.area)'.format(density_4))\n",
    "    plt.figtext(0.7,0.95, 'Radius: {}'.format(round(radius_4, 4)))\n",
    "    plt.show()\n",
    "    \n",
    "except Exception as e:\n",
    "    print(e)"
   ]
  },
  {
   "cell_type": "markdown",
   "id": "49309038",
   "metadata": {},
   "source": [
    "# Model\n",
    "In order for data to be in scale from -10 to 10, we have to transform coordinates. This can be done by dividing the longitudes by 15 and transforming latitudes using the formula below. This number is chosen so that the data points around the average are as visually differentiabe as possible and is based on max and min values of coordinates.\n",
    "\n",
    "    So, Latitude = (Latitude / 5) - 5\n",
    "        Longitude = Longitude / 15\n",
    "        \n",
    "For adding for visual differntiability, different colors are used for different request assignments. \n",
    "\n",
    "##### Note:\n",
    "Visualization could also be done using geo plotting in plotly package. Since it is not available in the current working image and to allow using the scale, I proceeded with matplotlib."
   ]
  },
  {
   "cell_type": "code",
   "execution_count": 320,
   "id": "564fa911",
   "metadata": {},
   "outputs": [],
   "source": [
    "# Transformations\n",
    "x1_t = [(i/5-5) for i in x1]\n",
    "y1_t = [i/15 for i in y1]\n",
    "\n",
    "x3_t = [(i/5-5) for i in x3]\n",
    "y3_t = [i/15 for i in y3]\n",
    "\n",
    "x4_t = [(i/5-5) for i in x4]\n",
    "y4_t = [i/15 for i in y4]\n",
    "\n",
    "# Transforming POIs\n",
    "POIs_t = dict()\n",
    "\n",
    "for k, v in POIs.items():\n",
    "    POIs_t[k] = (round(v[0]/5 -5, 4), round(v[1]/15, 4))"
   ]
  },
  {
   "cell_type": "code",
   "execution_count": 322,
   "id": "68ba8950",
   "metadata": {},
   "outputs": [
    {
     "data": {
      "text/plain": [
       "<matplotlib.legend.Legend at 0x7f73fc24f670>"
      ]
     },
     "execution_count": 322,
     "metadata": {},
     "output_type": "execute_result"
    },
    {
     "data": {
      "image/png": "[encoded data removed]",
      "text/plain": [
       "<Figure size 864x432 with 1 Axes>"
      ]
     },
     "metadata": {
      "needs_background": "light"
     },
     "output_type": "display_data"
    }
   ],
   "source": [
    "figure, axes = plt.subplots()\n",
    "plt.xlim(-10, 10)\n",
    "plt.ylim(-10, 10)\n",
    "plt.xlabel('Latitudes')\n",
    "plt.ylabel('Longitudes')\n",
    "axes.set_aspect(1)\n",
    "p1 = plt.scatter(x1_t, y1_t, s=2,c='cyan', edgecolor='black', linewidth=0.1)\n",
    "p3 = plt.scatter(x3_t, y3_t, s=2,c='grey', edgecolor='black', linewidth=0.1)\n",
    "p4 = plt.scatter(x4_t, y4_t, s=2,c='orange', edgecolor='black', linewidth=0.1)\n",
    "\n",
    "leg = []\n",
    "i = 0\n",
    "for v in POIs_t.values():\n",
    "    x = v[0]\n",
    "    y = v[1]\n",
    "    if i == 0 or i == 1:\n",
    "        mark = 'rD'\n",
    "    elif i == 2:\n",
    "        mark = 'r+'\n",
    "    else:\n",
    "        mark = 'p'\n",
    "    leg.extend(plt.plot(x, y, mark))\n",
    "    i += 1    \n",
    "    \n",
    "plt.legend(leg, ['POI 1', 'POI 2', 'POI 3', 'POI 4'])    "
   ]
  },
  {
   "cell_type": "markdown",
   "id": "844f88de",
   "metadata": {},
   "source": [
    "### Bonus\n",
    "Data analysis based on the visualization is included in bonus.txt fille"
   ]
  }
 ],
 "metadata": {
  "kernelspec": {
   "display_name": "Python 3",
   "language": "python",
   "name": "python3"
  },
  "language_info": {
   "codemirror_mode": {
    "name": "ipython",
    "version": 3
   },
   "file_extension": ".py",
   "mimetype": "text/x-python",
   "name": "python",
   "nbconvert_exporter": "python",
   "pygments_lexer": "ipython3",
   "version": "3.9.4"
  }
 },
 "nbformat": 4,
 "nbformat_minor": 5
}
